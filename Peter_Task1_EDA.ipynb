{
 "cells": [
  {
   "cell_type": "markdown",
   "id": "0970e737-19d5-48a6-a8c5-6d77975bae3c",
   "metadata": {},
   "source": [
    "*Task 1: Exploratory Data Analysis (EDA) and Business Insights*"
   ]
  },
  {
   "cell_type": "code",
   "execution_count": 1,
   "id": "c39f36b9-6ba2-4f05-a314-25e823e699a6",
   "metadata": {},
   "outputs": [
    {
     "name": "stdout",
     "output_type": "stream",
     "text": [
      "Pandas version: 2.2.3\n",
      "NumPy version: 2.2.2\n"
     ]
    }
   ],
   "source": [
    "import pandas as pd\n",
    "import numpy as np\n",
    "\n",
    "print(\"Pandas version:\", pd.__version__)\n",
    "print(\"NumPy version:\", np.__version__)"
   ]
  },
  {
   "cell_type": "code",
   "execution_count": 2,
   "id": "9dfb3348-dbc2-4e27-a2f4-5b04e1f02c83",
   "metadata": {
    "scrolled": true
   },
   "outputs": [
    {
     "name": "stdout",
     "output_type": "stream",
     "text": [
      "  CustomerID        CustomerName         Region  SignupDate\n",
      "0      C0001    Lawrence Carroll  South America  2022-07-10\n",
      "1      C0002      Elizabeth Lutz           Asia  2022-02-13\n",
      "2      C0003      Michael Rivera  South America  2024-03-07\n",
      "3      C0004  Kathleen Rodriguez  South America  2022-10-09\n",
      "4      C0005         Laura Weber           Asia  2022-08-15\n",
      "  ProductID              ProductName     Category   Price\n",
      "0      P001     ActiveWear Biography        Books  169.30\n",
      "1      P002    ActiveWear Smartwatch  Electronics  346.30\n",
      "2      P003  ComfortLiving Biography        Books   44.12\n",
      "3      P004            BookWorld Rug   Home Decor   95.69\n",
      "4      P005          TechPro T-Shirt     Clothing  429.31\n",
      "  TransactionID CustomerID ProductID      TransactionDate  Quantity  \\\n",
      "0        T00001      C0199      P067  2024-08-25 12:38:23         1   \n",
      "1        T00112      C0146      P067  2024-05-27 22:23:54         1   \n",
      "2        T00166      C0127      P067  2024-04-25 07:38:55         1   \n",
      "3        T00272      C0087      P067  2024-03-26 22:55:37         2   \n",
      "4        T00363      C0070      P067  2024-03-21 15:10:10         3   \n",
      "\n",
      "   TotalValue   Price  \n",
      "0      300.68  300.68  \n",
      "1      300.68  300.68  \n",
      "2      300.68  300.68  \n",
      "3      601.36  300.68  \n",
      "4      902.04  300.68  \n"
     ]
    }
   ],
   "source": [
    "import pandas as pd\n",
    "customers = pd.read_csv(r\"Customers.csv\")\n",
    "products = pd.read_csv(r\"Products.csv\")\n",
    "transactions = pd.read_csv(r\"Transactions.csv\")\n",
    "print(customers.head())\n",
    "print(products.head())\n",
    "print(transactions.head())"
   ]
  },
  {
   "cell_type": "code",
   "execution_count": 3,
   "id": "8475131b-f456-4a93-a7d2-df72171fdec5",
   "metadata": {},
   "outputs": [
    {
     "name": "stdout",
     "output_type": "stream",
     "text": [
      "CustomerID      0\n",
      "CustomerName    0\n",
      "Region          0\n",
      "SignupDate      0\n",
      "dtype: int64\n",
      "ProductID      0\n",
      "ProductName    0\n",
      "Category       0\n",
      "Price          0\n",
      "dtype: int64\n",
      "TransactionID      0\n",
      "CustomerID         0\n",
      "ProductID          0\n",
      "TransactionDate    0\n",
      "Quantity           0\n",
      "TotalValue         0\n",
      "Price              0\n",
      "dtype: int64\n"
     ]
    }
   ],
   "source": [
    "print(customers.isnull().sum())\n",
    "print(products.isnull().sum())\n",
    "print(transactions.isnull().sum())"
   ]
  },
  {
   "cell_type": "code",
   "execution_count": 4,
   "id": "df01acae-361c-4c16-8b53-b062ab543b58",
   "metadata": {},
   "outputs": [],
   "source": [
    "customers = customers.dropna()\n",
    "products = products.dropna()\n",
    "transactions = transactions.dropna()"
   ]
  },
  {
   "cell_type": "code",
   "execution_count": 5,
   "id": "c3d52a53-6eab-4a7f-ade3-d993b6272eca",
   "metadata": {},
   "outputs": [
    {
     "name": "stdout",
     "output_type": "stream",
     "text": [
      "Index(['ProductID', 'ProductName', 'Category', 'Price'], dtype='object')\n"
     ]
    }
   ],
   "source": [
    "customers = customers.fillna('Unknown')\n",
    "products = products.fillna(products['Price'].mean())  # Example: filling missing prices with the mean\n",
    "transactions = transactions.fillna(0)\n",
    "print(products.columns)"
   ]
  },
  {
   "cell_type": "code",
   "execution_count": 6,
   "id": "59a8b3e3-b155-41f4-b8fa-5c5cc1022593",
   "metadata": {},
   "outputs": [
    {
     "name": "stdout",
     "output_type": "stream",
     "text": [
      "<class 'pandas.core.frame.DataFrame'>\n",
      "RangeIndex: 200 entries, 0 to 199\n",
      "Data columns (total 4 columns):\n",
      " #   Column        Non-Null Count  Dtype \n",
      "---  ------        --------------  ----- \n",
      " 0   CustomerID    200 non-null    object\n",
      " 1   CustomerName  200 non-null    object\n",
      " 2   Region        200 non-null    object\n",
      " 3   SignupDate    200 non-null    object\n",
      "dtypes: object(4)\n",
      "memory usage: 6.4+ KB\n",
      "None\n",
      "<class 'pandas.core.frame.DataFrame'>\n",
      "RangeIndex: 100 entries, 0 to 99\n",
      "Data columns (total 4 columns):\n",
      " #   Column       Non-Null Count  Dtype  \n",
      "---  ------       --------------  -----  \n",
      " 0   ProductID    100 non-null    object \n",
      " 1   ProductName  100 non-null    object \n",
      " 2   Category     100 non-null    object \n",
      " 3   Price        100 non-null    float64\n",
      "dtypes: float64(1), object(3)\n",
      "memory usage: 3.3+ KB\n",
      "None\n",
      "<class 'pandas.core.frame.DataFrame'>\n",
      "RangeIndex: 1000 entries, 0 to 999\n",
      "Data columns (total 7 columns):\n",
      " #   Column           Non-Null Count  Dtype  \n",
      "---  ------           --------------  -----  \n",
      " 0   TransactionID    1000 non-null   object \n",
      " 1   CustomerID       1000 non-null   object \n",
      " 2   ProductID        1000 non-null   object \n",
      " 3   TransactionDate  1000 non-null   object \n",
      " 4   Quantity         1000 non-null   int64  \n",
      " 5   TotalValue       1000 non-null   float64\n",
      " 6   Price            1000 non-null   float64\n",
      "dtypes: float64(2), int64(1), object(4)\n",
      "memory usage: 54.8+ KB\n",
      "None\n"
     ]
    }
   ],
   "source": [
    "print(customers.info())  # Check for null values and data types\n",
    "print(products.info())\n",
    "print(transactions.info())"
   ]
  },
  {
   "cell_type": "code",
   "execution_count": 7,
   "id": "01646d62-fc9c-4feb-b667-dd938b8ea80c",
   "metadata": {},
   "outputs": [
    {
     "name": "stdout",
     "output_type": "stream",
     "text": [
      "  CustomerID        CustomerName         Region  SignupDate\n",
      "0      C0001    Lawrence Carroll  South America  2022-07-10\n",
      "1      C0002      Elizabeth Lutz           Asia  2022-02-13\n",
      "2      C0003      Michael Rivera  South America  2024-03-07\n",
      "3      C0004  Kathleen Rodriguez  South America  2022-10-09\n",
      "4      C0005         Laura Weber           Asia  2022-08-15\n",
      "  ProductID              ProductName     Category   Price\n",
      "0      P001     ActiveWear Biography        Books  169.30\n",
      "1      P002    ActiveWear Smartwatch  Electronics  346.30\n",
      "2      P003  ComfortLiving Biography        Books   44.12\n",
      "3      P004            BookWorld Rug   Home Decor   95.69\n",
      "4      P005          TechPro T-Shirt     Clothing  429.31\n",
      "  TransactionID CustomerID ProductID      TransactionDate  Quantity  \\\n",
      "0        T00001      C0199      P067  2024-08-25 12:38:23         1   \n",
      "1        T00112      C0146      P067  2024-05-27 22:23:54         1   \n",
      "2        T00166      C0127      P067  2024-04-25 07:38:55         1   \n",
      "3        T00272      C0087      P067  2024-03-26 22:55:37         2   \n",
      "4        T00363      C0070      P067  2024-03-21 15:10:10         3   \n",
      "\n",
      "   TotalValue   Price  \n",
      "0      300.68  300.68  \n",
      "1      300.68  300.68  \n",
      "2      300.68  300.68  \n",
      "3      601.36  300.68  \n",
      "4      902.04  300.68  \n"
     ]
    }
   ],
   "source": [
    "print(customers.head())        # Display first 5 rows of customers\n",
    "print(products.head())         # Display first 5 rows of products\n",
    "print(transactions.head())     # Display first 5 rows of transactions"
   ]
  },
  {
   "cell_type": "code",
   "execution_count": 8,
   "id": "bf6f5cf6-cc22-41c4-bfb3-29b280d73cfe",
   "metadata": {},
   "outputs": [
    {
     "name": "stdout",
     "output_type": "stream",
     "text": [
      "Index(['transactionid', 'customerid', 'productid', 'transactiondate',\n",
      "       'quantity', 'totalvalue', 'price'],\n",
      "      dtype='object')\n",
      "Index(['productid', 'productname', 'category', 'price'], dtype='object')\n"
     ]
    }
   ],
   "source": [
    "transactions.columns = transactions.columns.str.lower()\n",
    "products.columns = products.columns.str.lower()\n",
    "print(transactions.columns)\n",
    "print(products.columns)"
   ]
  },
  {
   "cell_type": "code",
   "execution_count": 9,
   "id": "cc83ad13-9024-4424-b1c4-0377479740a6",
   "metadata": {},
   "outputs": [
    {
     "name": "stdout",
     "output_type": "stream",
     "text": [
      "Index(['transactionid', 'customerid', 'productid', 'transactiondate',\n",
      "       'quantity', 'totalvalue', 'price'],\n",
      "      dtype='object')\n",
      "Index(['productid', 'productname', 'category', 'price'], dtype='object')\n"
     ]
    }
   ],
   "source": [
    "print(transactions.columns)\n",
    "print(products.columns)"
   ]
  },
  {
   "cell_type": "code",
   "execution_count": 10,
   "id": "77564caf-7639-4ff3-86d4-67fcce687cb5",
   "metadata": {},
   "outputs": [],
   "source": [
    "transactions.rename(columns={'incorrect_column_name': 'product_id'}, inplace=True)\n",
    "products.rename(columns={'incorrect_column_name': 'product_id'}, inplace=True)"
   ]
  },
  {
   "cell_type": "code",
   "execution_count": 38,
   "id": "277c5f60-1606-4f53-a108-507863b932c8",
   "metadata": {},
   "outputs": [
    {
     "name": "stdout",
     "output_type": "stream",
     "text": [
      "Index(['transactionid', 'customerid', 'productid', 'transactiondate',\n",
      "       'quantity', 'totalvalue', 'price'],\n",
      "      dtype='object')\n",
      "Index(['productid', 'productname', 'category', 'price'], dtype='object')\n"
     ]
    }
   ],
   "source": [
    "print(transactions.columns)\n",
    "print(products.columns)"
   ]
  },
  {
   "cell_type": "code",
   "execution_count": 39,
   "id": "570542d7-d378-4c36-9dce-b448d370d245",
   "metadata": {},
   "outputs": [],
   "source": [
    "transactions.rename(columns={'incorrect_column_name': 'product_id'}, inplace=True)\n",
    "products.rename(columns={'incorrect_column_name': 'product_id'}, inplace=True)"
   ]
  },
  {
   "cell_type": "code",
   "execution_count": 40,
   "id": "828ed093-dfe8-4415-b05a-7c3b101ec956",
   "metadata": {},
   "outputs": [
    {
     "name": "stdout",
     "output_type": "stream",
     "text": [
      "False\n",
      "False\n"
     ]
    }
   ],
   "source": [
    "print('product_id' in transactions.columns)\n",
    "print('product_id' in products.columns)"
   ]
  },
  {
   "cell_type": "code",
   "execution_count": 41,
   "id": "35f453e7-e4f8-48fa-832a-04b9bd0d75d9",
   "metadata": {},
   "outputs": [
    {
     "name": "stdout",
     "output_type": "stream",
     "text": [
      "Index(['transactionid', 'customerid', 'productid', 'transactiondate',\n",
      "       'quantity', 'totalvalue', 'price'],\n",
      "      dtype='object')\n",
      "Index(['productid', 'productname', 'category', 'price'], dtype='object')\n"
     ]
    }
   ],
   "source": [
    "print(transactions.columns)\n",
    "print(products.columns)"
   ]
  },
  {
   "cell_type": "code",
   "execution_count": 42,
   "id": "604dae95-9c41-4d74-9605-c1d2062ae6c7",
   "metadata": {},
   "outputs": [
    {
     "name": "stdout",
     "output_type": "stream",
     "text": [
      "0\n",
      "0\n"
     ]
    }
   ],
   "source": [
    "print(transactions['productid'].isnull().sum())\n",
    "print(products['productid'].isnull().sum())"
   ]
  },
  {
   "cell_type": "code",
   "execution_count": 51,
   "id": "1e11ad77-eb11-4b07-b9a5-5bf04697dad7",
   "metadata": {},
   "outputs": [
    {
     "name": "stdout",
     "output_type": "stream",
     "text": [
      "object\n",
      "object\n"
     ]
    }
   ],
   "source": [
    "print(transactions['productid'].dtype)\n",
    "print(products['productid'].dtype)"
   ]
  }
 ],
 "metadata": {
  "kernelspec": {
   "display_name": "Python 3 (ipykernel)",
   "language": "python",
   "name": "python3"
  },
  "language_info": {
   "codemirror_mode": {
    "name": "ipython",
    "version": 3
   },
   "file_extension": ".py",
   "mimetype": "text/x-python",
   "name": "python",
   "nbconvert_exporter": "python",
   "pygments_lexer": "ipython3",
   "version": "3.13.1"
  }
 },
 "nbformat": 4,
 "nbformat_minor": 5
}
